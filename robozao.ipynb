{
 "cells": [
  {
   "cell_type": "code",
   "execution_count": 2,
   "id": "15dc7834",
   "metadata": {},
   "outputs": [],
   "source": [
    "import pyautogui as aut\n",
    "\n"
   ]
  },
  {
   "cell_type": "code",
   "execution_count": 5,
   "id": "e3a435fa",
   "metadata": {},
   "outputs": [],
   "source": [
    "#estou importando o pyautogui e apelidando ele de aut\n",
    "import pyautogui as aut\n",
    "\n",
    "#pressiono a tecla de atalho win +r\n",
    "aut.hotkey(\"win\", \"r\")\n",
    "#escrever noptepad\n",
    "aut.write(\"notepad\", interval=0.2)\n",
    "#espera 1 segundo\n",
    "aut.sleep(1)\n",
    "#esperta o enter\n",
    "aut.press(\"enter\")\n",
    "aut.sleep(1)\n",
    "aut.moveTo(79,150)\n",
    "aut.click()\n",
    "aut.sleep(1)\n",
    "aut.write(\"professor top\", interval =0.2)"
   ]
  },
  {
   "cell_type": "code",
   "execution_count": 1,
   "id": "86abf5d1",
   "metadata": {},
   "outputs": [],
   "source": [
    "### pegando a posição do mouse"
   ]
  },
  {
   "cell_type": "code",
   "execution_count": 3,
   "id": "ea8fbcdf",
   "metadata": {},
   "outputs": [],
   "source": [
    "#pega a informação do mouse\n",
    "aut.mouseInfo()\n",
    "aut.move(1066,523)"
   ]
  },
  {
   "cell_type": "code",
   "execution_count": 4,
   "id": "1d9ef19e",
   "metadata": {},
   "outputs": [],
   "source": [
    "import pyautogui as aut\n",
    "\n",
    "\n",
    "\n",
    "aut.hotkey(\"win\",\"r\")\n",
    "aut.write(\"chrome\")\n",
    "aut.sleep(1)\n",
    "aut.press(\"Enter\")\n",
    "aut.sleep(1)\n",
    "aut.moveTo(966,571)\n",
    "aut.sleep(0.5)\n",
    "aut.click()\n",
    "aut.sleep(0.7)\n",
    "aut.moveTo(403,59)\n",
    "aut.sleep(1)\n",
    "aut.click()\n",
    "aut.sleep(1)\n",
    "aut.write(\"https://www.youtube.com/watch?v=vHRs5C8XOu0\", interval= 0.03)\n"
   ]
  },
  {
   "cell_type": "code",
   "execution_count": 7,
   "id": "699fe910",
   "metadata": {},
   "outputs": [],
   "source": [
    "aut.press(\"win\")\n",
    "aut.sleep(0.5)\n",
    "aut.write('pain', interval=0.2)\n",
    "aut.sleep(0.5)\n",
    "aut.press('enter')"
   ]
  }
 ],
 "metadata": {
  "kernelspec": {
   "display_name": "Python 3",
   "language": "python",
   "name": "python3"
  },
  "language_info": {
   "codemirror_mode": {
    "name": "ipython",
    "version": 3
   },
   "file_extension": ".py",
   "mimetype": "text/x-python",
   "name": "python",
   "nbconvert_exporter": "python",
   "pygments_lexer": "ipython3",
   "version": "3.13.2"
  }
 },
 "nbformat": 4,
 "nbformat_minor": 5
}
