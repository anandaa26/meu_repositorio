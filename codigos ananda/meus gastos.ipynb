{
 "cells": [
  {
   "cell_type": "markdown",
   "id": "312524d2",
   "metadata": {},
   "source": [
    "### meus gastos\n"
   ]
  },
  {
   "cell_type": "code",
   "execution_count": null,
   "id": "812e666e",
   "metadata": {},
   "outputs": [],
   "source": [
    "#1\n",
    "maquiagem = 150\n",
    "#2\n",
    "saidas=100\n",
    "#3\n",
    "plano de cllr =79\n",
    "#4\n",
    "pelicula e capinha = 45\n"
   ]
  }
 ],
 "metadata": {
  "kernelspec": {
   "display_name": "Python 3",
   "language": "python",
   "name": "python3"
  },
  "language_info": {
   "name": "python",
   "version": "3.13.2"
  }
 },
 "nbformat": 4,
 "nbformat_minor": 5
}
