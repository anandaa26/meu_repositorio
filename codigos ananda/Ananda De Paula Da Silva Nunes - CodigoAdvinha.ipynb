{
 "cells": [
  {
   "cell_type": "markdown",
   "id": "4f7a1d42",
   "metadata": {},
   "source": [
    "### Jogo de advinhação\n",
    "\n",
    "Vamos criar um jogo que advinha o número que o usuário digitou!!\n"
   ]
  },
  {
   "cell_type": "code",
   "execution_count": null,
   "id": "5fa02260",
   "metadata": {},
   "outputs": [
    {
     "name": "stdout",
     "output_type": "stream",
     "text": [
      "Jogo de advinhação!!! Boa Sorte!!\n",
      "------------------------------------\n",
      " O número que você digitou foi 3.5 hahahaha acertei\n"
     ]
    }
   ],
   "source": [
    "print(\"Jogo de advinhação!!! Boa Sorte!!\")\n",
    "print(\"------------------------------------\")\n",
    "## o número deve ser float, pois deve aceitar tanto números inteiros, quanto números quebrados\n",
    "-"
   ]
  },
  {
   "cell_type": "markdown",
   "id": "56cf80bf",
   "metadata": {},
   "source": [
    "### Meu carro do sonho\n",
    "\n",
    "Vamos pedir para o usuário nos informar o nome do carro e o preço do carro dos sonhos deles."
   ]
  },
  {
   "cell_type": "code",
   "execution_count": 2,
   "id": "7d9330a4",
   "metadata": {},
   "outputs": [
    {
     "name": "stdout",
     "output_type": "stream",
     "text": [
      "O carro que você deseja comprar é um porshe, o carro custa 16000000.00, e falta 15400000.00.\n"
     ]
    }
   ],
   "source": [
    "# 1º Primeiro peça ao usuário o nome do carro dos sonhos:\n",
    "nome_carro = input(\"Informe o nome do seu carro do sonho:\")\n",
    "# 2º Peça o preço do carro dos sonhos\n",
    "preço_carro = float(input(\"me informe o valor do carro\"))\n",
    "# 3º Pergunte quanto dinheiro o usuário tem e guarde o valor em uma variável\n",
    "quantia = float(input(\"quantos vc tem\"))\n",
    "# 4º Calcule quanto falta para o usuário conseguir comprar o carro\n",
    "resultado = (preço_carro - quantia)\n",
    "# 5º Mostre na tela o nome do carro o preço dele e quanto falta para o usuário realizar o sonho dele.\n",
    "print(f\"O carro que você deseja comprar é um {nome_carro}, o carro custa {preço_carro:.2f}, e falta {resultado:.2f}.\")\n",
    "\n"
   ]
  },
  {
   "cell_type": "markdown",
   "id": "d28ba737",
   "metadata": {},
   "source": [
    "### Agenda de Celular\n",
    "\n",
    "Peça ao usuário que informe o nome dele e o número do telefone dele\n",
    "\n",
    "Depois mostre ao usuário print() com uma mensagem o nome dele e o número do telefone"
   ]
  },
  {
   "cell_type": "code",
   "execution_count": 3,
   "id": "3037f6bb",
   "metadata": {},
   "outputs": [
    {
     "name": "stdout",
     "output_type": "stream",
     "text": [
      "o nome do usuario e ananda, o telefone do usuario e 1187660923.\n"
     ]
    }
   ],
   "source": [
    "# preciso pedir o nome do usuário\n",
    "nome_usuario = input(\"qual e o seu nome:\")\n",
    "#preciso pedir o telefone\n",
    "telefone_usuario = input(\"qual e o seu telefone\")\n",
    "# mostrar as informações\n",
    "print(f\"o nome do usuario e {nome_usuario}, o telefone do usuario e {telefone_usuario}.\")\n",
    "\n"
   ]
  },
  {
   "cell_type": "markdown",
   "id": "3312349f",
   "metadata": {},
   "source": [
    "### Adivinha a idade\n",
    "\n",
    "preciso do ano do nascimento e o ano atual\n",
    "\n",
    "formula = ano_atual - ano_nascimento\n",
    "\n",
    "tipo da variavel int"
   ]
  },
  {
   "cell_type": "code",
   "execution_count": 4,
   "id": "4d8cbcc1",
   "metadata": {},
   "outputs": [
    {
     "name": "stdout",
     "output_type": "stream",
     "text": [
      "a gente esta em 2025,e vc nasceu no ano 2009 ent vc tem 16 anos\n"
     ]
    }
   ],
   "source": [
    "ano_nascimento = int(input(\"qual ano vc nasceu\"))\n",
    "ano_atual = int(input(\"em que ano nos estamos\"))\n",
    "idade = (ano_atual-ano_nascimento)\n",
    "print (f\"a gente esta em {ano_atual},e vc nasceu no ano {ano_nascimento} ent vc tem {idade} anos\")"
   ]
  },
  {
   "cell_type": "code",
   "execution_count": 1,
   "id": "f58636eb",
   "metadata": {},
   "outputs": [],
   "source": [
    "# int: usa para números inteiros ( ex.: 10 ou 100)\n",
    "# float: usa para números quebrados (ex.: 10.99 ou 29.90)\n",
    "# input: usa quando queremos que o usuário digite na caixinha\n",
    "# f: usa quando queremos enfeitar o print (ex.: print(f\"o nome do usuario e {nome_usuario}, o telefone do usuario e {telefone_usuario}.\"))\n",
    "# :.2f: usa para limitar os números pós a vírgula\n",
    "# print: usa para dá a informação na tela"
   ]
  },
  {
   "cell_type": "markdown",
   "id": "9549527f",
   "metadata": {},
   "source": []
  }
 ],
 "metadata": {
  "kernelspec": {
   "display_name": "Python 3",
   "language": "python",
   "name": "python3"
  },
  "language_info": {
   "codemirror_mode": {
    "name": "ipython",
    "version": 3
   },
   "file_extension": ".py",
   "mimetype": "text/x-python",
   "name": "python",
   "nbconvert_exporter": "python",
   "pygments_lexer": "ipython3",
   "version": "3.13.2"
  }
 },
 "nbformat": 4,
 "nbformat_minor": 5
}
